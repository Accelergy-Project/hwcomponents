{
 "cells": [
  {
   "cell_type": "markdown",
   "metadata": {},
   "source": [
    "## Welcome to the HWComponents Tutorial!\n",
    "\n",
    "This tutorial will guide you through the process of using HWComponents to estimate the\n",
    "energy and area components in a hardware design.\n",
    "\n",
    "To start, let's import the necessary modules."
   ]
  },
  {
   "cell_type": "code",
   "execution_count": 1,
   "metadata": {},
   "outputs": [],
   "source": [
    "import logging\n",
    "logging.getLogger().setLevel(logging.WARNING)\n",
    "import hwcomponents as hwc"
   ]
  },
  {
   "cell_type": "markdown",
   "metadata": {},
   "source": [
    "### Listing available models\n",
    "\n",
    "HWComponents uses a suite of models to estimate the energy and area of components.\n",
    "You can list the available models from the shell with the \"hwcomponents --list\"\n",
    "function. Let's list the available models."
   ]
  },
  {
   "cell_type": "code",
   "execution_count": 2,
   "metadata": {},
   "outputs": [
    {
     "name": "stdout",
     "output_type": "stream",
     "text": [
      "\n",
      "\n",
      "Supported Components:\n",
      "adc(n_bits, tech_node, throughput, n_adcs=1) from class ADC \n",
      "\tactivate()\n",
      "\tconvert()\n",
      "\tdrive()\n",
      "\tleak(time_period)\n",
      "\tread()\n",
      "\tsample()\n",
      "\tleak(time_period)\n",
      "adder(tech_node, width=32) from class AladdinAdder \n",
      "\tadd()\n",
      "\tleak(time_period)\n",
      "\tread()\n",
      "\twrite()\n",
      "\tleak(time_period)\n",
      "adder(tech_node, global_cycle_seconds, n_bits) from class Adder \n",
      "\tadd()\n",
      "\tcompute()\n",
      "\tconvert()\n",
      "\tleak(time_period)\n",
      "\tread()\n",
      "\tshift_add()\n",
      "\tupdate()\n",
      "\twrite()\n",
      "\tleak(time_period)\n",
      "adder_tree(tech_node, global_cycle_seconds, n_bits, n_adder_tree_inputs) from class AdderTree \n",
      "\tadd()\n",
      "\tcompute()\n",
      "\tconvert()\n",
      "\tleak(time_period)\n",
      "\tread()\n",
      "\tshift_add()\n",
      "\tupdate()\n",
      "\twrite()\n",
      "\tleak(time_period)\n",
      "aladdin_adder: alias for AladdinAdder from class adder\n",
      "aladdin_comparator: alias for AladdinComparator from class comparator\n",
      "aladdin_counter: alias for AladdinCounter from class counter\n",
      "aladdin_multiplier: alias for AladdinMultiplier from class intmultiplier\n",
      "aladdin_register: alias for AladdinRegister from class register\n",
      "array_adc: alias for ADC from class adc\n",
      "array_adc(tech_node, global_cycle_seconds, rows, cols, cols_active_at_once, cell_config, average_input_value, average_cell_value, read_pulse_width, adc_resolution=0, voltage_dac_bits=1, temporal_dac_bits=1, temporal_spiking=True, voltage=0, threshold_voltage=0, sequential=False) from class ADC \n",
      "\tadd()\n",
      "\tcompute()\n",
      "\tconvert()\n",
      "\tleak(time_period)\n",
      "\tread()\n",
      "\tshift_add()\n"
     ]
    }
   ],
   "source": [
    "# The output is too long to display here, so we'll just display the first 50 lines. \n",
    "! hwcomponents --list 2> /dev/null | head -50"
   ]
  },
  {
   "cell_type": "markdown",
   "metadata": {},
   "source": [
    "### Using Models from HWComponents\n",
    "\n",
    "There are three ways use models.\n",
    "\n",
    "1. Import the model from a module and use it directly.\n",
    "2. Ask hwcomponents to select the best model for a given component.\n",
    "3. Ask hwcomponents for specific properties of a component.\n",
    "\n",
    "All units are in base units; Joules, watts, meters, seconds, etc. "
   ]
  },
  {
   "cell_type": "code",
   "execution_count": 3,
   "metadata": {},
   "outputs": [
    {
     "name": "stdout",
     "output_type": "stream",
     "text": [
      "SRAM read energy is 5.10e+06J. Area is 3.31e-07m^2. Leak power is 2.13e-08W\n",
      "Read energy is 5.10e+06J. Area is 3.31e-07m^2. Leak power is 2.13e-08W\n",
      "Read energy is 5.10e+06J. Area is 3.31e-07m^2. Leak power is 2.13e-08W\n"
     ]
    }
   ],
   "source": [
    "# Method 1: Import the model from a module and use it directly.\n",
    "from hwcomponents_cacti import SRAM\n",
    "sram = SRAM(\n",
    "    tech_node=40e-9, # 40nm\n",
    "    width=64,\n",
    "    depth=1024,\n",
    ")\n",
    "print(f\"SRAM read energy is {sram.read():.2e}J. Area is {sram.area:.2e}m^2. Leak power is {sram.leak_power:.2e}W\")\n",
    "\n",
    "\n",
    "# Method 2: Ask hwcomponents to select the best model for a given component.\n",
    "model = hwc.get_model(\n",
    "    component_name=\"SRAM\", # These are NOT case sensitive.\n",
    "    component_attributes={\n",
    "        \"tech_node\": 40e-9, # 40nm\n",
    "        \"width\": 64,\n",
    "        \"depth\": 1024\n",
    "    },\n",
    "    required_actions=[\"read\"]\n",
    ")\n",
    "print(f'Read energy is {model.read():.2e}J. Area is {model.area:.2e}m^2. Leak power is {model.leak_power:.2e}W')\n",
    "\n",
    "# Method 3: Ask for specific properties from hwcomponents\n",
    "attributes = {\n",
    "    \"tech_node\": 40e-9, # 40nm\n",
    "    \"width\": 64,\n",
    "    \"depth\": 1024\n",
    "}\n",
    "\n",
    "read_energy = hwc.get_energy(\n",
    "    component_name=\"SRAM\",\n",
    "    component_attributes=attributes,\n",
    "    action_name=\"read\",\n",
    "    action_arguments={}\n",
    ")\n",
    "area = hwc.get_area(\n",
    "    component_name=\"SRAM\",\n",
    "    component_attributes=attributes,\n",
    ")\n",
    "leak_power = hwc.get_leak_power(\n",
    "    component_name=\"SRAM\",\n",
    "    component_attributes=attributes,\n",
    ")\n",
    "print(f'Read energy is {read_energy:.2e}J. Area is {area:.2e}m^2. Leak power is {leak_power:.2e}W')"
   ]
  },
  {
   "cell_type": "markdown",
   "metadata": {},
   "source": [
    "### Creating Custom Models\n",
    "\n",
    "Models can be created by subclassing the `EnergyAreaModel` class. Models\n",
    "estimate the energy, area, and leakage power of a component. Each model requires the\n",
    "following:\n",
    "- `component_name`: The name of the component. This may also be a list of components if\n",
    "  multiple aliases are used.\n",
    "- `priority_0_to_100`: The percent accuracy of the model. This is used to\n",
    "  break ties if multiple models support a given query.\n",
    "- A call to `super().__init__(area, leak_power)`. This is used to initialize the\n",
    "  model and set the area and leakage power.\n",
    "\n",
    "Models can also have actions. Actions are functions that return an energy of a\n",
    "specific action. For the TernaryMAC model, we have an action called `mac` that\n",
    "returns the energy of a ternary MAC operation. The `@actionDynamicEnergy` decorator\n",
    "makes this function visible as an action. The function should return an energy in\n",
    "Joules.\n",
    "\n",
    "Models can also be scaled to support a range of different parameters. For example,\n",
    "the TernaryMAC model can be scaled to support a range of different technology nodes.\n",
    "This is done by calling the `self.scale` function in the `__init__` method of the\n",
    "model. The `self.scale` function takes the following arguments:\n",
    "- `parameter_name`: The name of the parameter to scale.\n",
    "- `parameter_value`: The value of the parameter to scale.\n",
    "- `reference_value`: The reference value of the parameter.\n",
    "- `area_scaling_function`: The scaling function to use for area. Use `None` if no\n",
    "  scaling should be done.\n",
    "- `energy_scaling_function`: The scaling function to use for dynamic energy. Use `None` if no\n",
    "  scaling should be done.\n",
    "- `leak_scaling_function`: The scaling function to use for leakage power. Use `None` if\n",
    "  no scaling should be done.\n",
    "\n",
    "Many different scaling functions are defined and available in `hwcomponents.scaling`."
   ]
  },
  {
   "cell_type": "code",
   "execution_count": 4,
   "metadata": {},
   "outputs": [
    {
     "name": "stdout",
     "output_type": "stream",
     "text": [
      "TernaryMAC energy is 5.37e-15J. Area is 4.00e-11m^2. Leak power is 8.00e-03W\n"
     ]
    }
   ],
   "source": [
    "from hwcomponents import EnergyAreaModel, actionDynamicEnergy\n",
    "from hwcomponents.scaling import tech_node_area, tech_node_energy, tech_node_leak\n",
    "\n",
    "class TernaryMAC(EnergyAreaModel):\n",
    "    component_name: str | list[str] = 'TernaryMAC'\n",
    "    \"\"\" Name of the component. Must be a string or list/tuple of strings. \"\"\"\n",
    "\n",
    "    priority = 0.8\n",
    "    \"\"\"\n",
    "    Priority determines which model is used when multiple models are available for a\n",
    "    given component. Higher priority models are used first. Must be a number between 0\n",
    "    and 1.\n",
    "    \"\"\"\n",
    "\n",
    "    def __init__(self, accum_datawidth: int, tech_node: int):\n",
    "        # Provide an area and leakage power for the component. All units are in \n",
    "        # standard units without any prefixes (Joules, Watts, meters, etc.).\n",
    "        super().__init__(\n",
    "            area=5e-12 * accum_datawidth, \n",
    "            leak_power=1e-3 * accum_datawidth\n",
    "        )\n",
    "\n",
    "        # The following scales the tech_node to the given tech_node node from 40nm. \n",
    "        # The scaling functions for area, energy, and leakage are defined in\n",
    "        # hwcomponents.scaling. The energy scalingw will affect the functions decorated\n",
    "        # with @actionDynamicEnergy.\n",
    "        self.tech_node = self.scale(\n",
    "            \"tech_node\",\n",
    "            tech_node,\n",
    "            40e-9,\n",
    "            tech_node_area,\n",
    "            tech_node_energy,\n",
    "            tech_node_leak,\n",
    "        )\n",
    "        self.accum_datawidth = accum_datawidth\n",
    "\n",
    "        # Raising an error says that this model can't estimate and other models instead\n",
    "        # should be used instead. Good error messages are essential for users debugging\n",
    "        # their designs.\n",
    "        assert 4 <= accum_datawidth <= 8, \\\n",
    "            f'Accumulation datawidth {accum_datawidth} outside supported ' \\\n",
    "            f'range [4, 8]!'\n",
    "\n",
    "    # The actionDynamicEnergy decorator makes this function visible as an action. The\n",
    "    # function should return an energy in Joules.\n",
    "    @actionDynamicEnergy\n",
    "    def mac(self, clock_gated: bool = False) -> float:\n",
    "        self.logger.info(f'TernaryMAC Model is estimating '\n",
    "                         f'energy for mac_random.')\n",
    "        if clock_gated:\n",
    "            return 0.0\n",
    "        return 0.002e-12 * (self.accum_datawidth + 0.25)\n",
    "\n",
    "mac = TernaryMAC(accum_datawidth=8, tech_node=16e-9) # Scale the TernaryMAC to 16nm\n",
    "print(f'TernaryMAC energy is {mac.mac():.2e}J. Area is {mac.area:.2e}m^2. Leak power is {mac.leak_power:.2e}W')"
   ]
  },
  {
   "cell_type": "markdown",
   "metadata": {},
   "source": [
    "That's all! You can now use the TernaryMAC model to estimate the energy and area of\n",
    "a ternary MAC operation.\n",
    "\n",
    "That's the end of the tutorial. Please submit any issues or feature requests to the\n",
    "HWComponents GitHub repository.\n",
    "\n",
    "Thank you for using HWComponents!"
   ]
  }
 ],
 "metadata": {
  "kernelspec": {
   "display_name": "Python 3",
   "language": "python",
   "name": "python3"
  },
  "language_info": {
   "codemirror_mode": {
    "name": "ipython",
    "version": 3
   },
   "file_extension": ".py",
   "mimetype": "text/x-python",
   "name": "python",
   "nbconvert_exporter": "python",
   "pygments_lexer": "ipython3",
   "version": "3.13.3"
  }
 },
 "nbformat": 4,
 "nbformat_minor": 2
}
