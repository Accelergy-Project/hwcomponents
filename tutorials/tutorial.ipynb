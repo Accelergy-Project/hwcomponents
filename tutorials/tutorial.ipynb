{
 "cells": [
  {
   "cell_type": "markdown",
   "metadata": {},
   "source": [
    "## Welcome to the HWComponents Tutorial!\n",
    "\n",
    "This tutorial will guide you through the process of using HWComponents to estimate the\n",
    "energy and area components in a hardware design.\n",
    "\n",
    "To start, let's import the necessary modules."
   ]
  },
  {
   "cell_type": "code",
   "execution_count": 1,
   "metadata": {},
   "outputs": [],
   "source": [
    "import logging\n",
    "logging.getLogger().setLevel(logging.WARNING)\n",
    "import hwcomponents as hwc"
   ]
  },
  {
   "cell_type": "markdown",
   "metadata": {},
   "source": [
    "### Listing available estimators\n",
    "\n",
    "HWComponents uses a suite of estimators to estimate the energy and area of components.\n",
    "You can list the available estimators from the shell with the \"hwcomponents --list\"\n",
    "function. Let's list the available estimators."
   ]
  },
  {
   "cell_type": "code",
   "execution_count": null,
   "metadata": {},
   "outputs": [],
   "source": [
    "# The output is too long to display here, so we'll just display the first 50 lines. \n",
    "! hwcomponents --list 2> /dev/null | head -50"
   ]
  },
  {
   "cell_type": "markdown",
   "metadata": {},
   "source": [
    "### Using Estimators from HWComponents\n",
    "\n",
    "There are three ways use estimators.\n",
    "\n",
    "1. Import the estimator from a module and use it directly.\n",
    "2. Ask hwcomponents to select the best estimator for a given component.\n",
    "3. Ask hwcomponents for specific properties of a component.\n",
    "\n",
    "All units are in base units; Joules, watts, meters, seconds, etc. "
   ]
  },
  {
   "cell_type": "code",
   "execution_count": null,
   "metadata": {},
   "outputs": [],
   "source": [
    "# Method 1: Import the estimator from a module and use it directly.\n",
    "from hwcomponents_cacti import SRAM\n",
    "sram = SRAM(\n",
    "    tech_node=40e-9, # 40nm\n",
    "    width=64,\n",
    "    depth=1024,\n",
    ")\n",
    "print(f\"SRAM read energy is {sram.read():.2e}J. Area is {sram.area:.2e}m^2. Leak power is {sram.leak_power:.2e}W\")\n",
    "\n",
    "\n",
    "# Method 2: Ask hwcomponents to select the best estimator for a given component.\n",
    "estimator = hwc.get_estimator(\n",
    "    component_name=\"SRAM\", # These are NOT case sensitive.\n",
    "    component_attributes={\n",
    "        \"tech_node\": 40e-9, # 40nm\n",
    "        \"width\": 64,\n",
    "        \"depth\": 1024\n",
    "    },\n",
    "    required_actions=[\"read\"]\n",
    ")\n",
    "print(f'Read energy is {estimator.read():.2e}J. Area is {estimator.area:.2e}m^2. Leak power is {estimator.leak_power:.2e}W')\n",
    "\n",
    "# Method 3: Ask for specific properties from hwcomponents\n",
    "attributes = {\n",
    "    \"tech_node\": 40e-9, # 40nm\n",
    "    \"width\": 64,\n",
    "    \"depth\": 1024\n",
    "}\n",
    "\n",
    "read_energy = hwc.get_energy(\n",
    "    component_name=\"SRAM\",\n",
    "    component_attributes=attributes,\n",
    "    action_name=\"read\",\n",
    "    action_arguments={}\n",
    ")\n",
    "area = hwc.get_area(\n",
    "    component_name=\"SRAM\",\n",
    "    component_attributes=attributes,\n",
    ")\n",
    "leak_power = hwc.get_leak_power(\n",
    "    component_name=\"SRAM\",\n",
    "    component_attributes=attributes,\n",
    ")\n",
    "print(f'Read energy is {read_energy:.2e}J. Area is {area:.2e}m^2. Leak power is {leak_power:.2e}W')"
   ]
  },
  {
   "cell_type": "markdown",
   "metadata": {},
   "source": [
    "### Creating Custom Estimators\n",
    "\n",
    "Estimators can be created by subclassing the `EnergyAreaEstimator` class. Estimators\n",
    "estimate the energy, area, and leakage power of a component. Each estimator requires the\n",
    "following:\n",
    "- `component_name`: The name of the component. This may also be a list of components if\n",
    "  multiple aliases are used.\n",
    "- `percent_accuracy_0_to_100`: The percent accuracy of the estimator. This is used to\n",
    "  break ties if multiple estimators support a given query.\n",
    "- A call to `super().__init__(area, leak_power)`. This is used to initialize the\n",
    "  estimator and set the area and leakage power.\n",
    "\n",
    "Estimators can also have actions. Actions are functions that return an energy of a\n",
    "specific action. For the TernaryMAC estimator, we have an action called `mac` that\n",
    "returns the energy of a ternary MAC operation. The `@actionDynamicEnergy` decorator\n",
    "makes this function visible as an action. The function should return an energy in\n",
    "Joules.\n",
    "\n",
    "Estimators can also be scaled to support a range of different parameters. For example,\n",
    "the TernaryMAC estimator can be scaled to support a range of different technology nodes.\n",
    "This is done by calling the `self.scale` function in the `__init__` method of the\n",
    "estimator. The `self.scale` function takes the following arguments:\n",
    "- `parameter_name`: The name of the parameter to scale.\n",
    "- `parameter_value`: The value of the parameter to scale.\n",
    "- `reference_value`: The reference value of the parameter.\n",
    "- `area_scaling_function`: The scaling function to use for area. Use `None` if no\n",
    "  scaling should be done.\n",
    "- `energy_scaling_function`: The scaling function to use for dynamic energy. Use `None` if no\n",
    "  scaling should be done.\n",
    "- `leak_scaling_function`: The scaling function to use for leakage power. Use `None` if\n",
    "  no scaling should be done.\n",
    "\n",
    "Many different scaling functions are defined and available in `hwcomponents.scaling`."
   ]
  },
  {
   "cell_type": "code",
   "execution_count": null,
   "metadata": {},
   "outputs": [],
   "source": [
    "from hwcomponents import EnergyAreaEstimator, actionDynamicEnergy\n",
    "from hwcomponents.scaling import tech_node_area, tech_node_energy, tech_node_leak\n",
    "\n",
    "class TernaryMAC(EnergyAreaEstimator):\n",
    "    # REQUIRED: Give the name of the components supported by this Estimator.\n",
    "    component_name: str | list[str] = 'ternary_mac'\n",
    "    # REQUIRED: Give the percent accuracy of the Estimator.\n",
    "    percent_accuracy_0_to_100 = 80\n",
    "\n",
    "    def __init__(self, accum_datawidth: int, tech_node: int):\n",
    "        # Provide an area and leakage power for the component. All units are in \n",
    "        # standard units without any prefixes (Joules, Watts, meters, etc.).\n",
    "        super().__init__(\n",
    "            area=5e-12 * accum_datawidth, \n",
    "            leak_power=1e-3 * accum_datawidth\n",
    "        )\n",
    "\n",
    "        # The following scales the tech_node to the given tech_node node from 40nm. \n",
    "        # The scaling functions for area, energy, and leakage are defined in\n",
    "        # hwcomponents.scaling. The energy scalingw will affect the functions decorated\n",
    "        # with @actionDynamicEnergy.\n",
    "        self.tech_node = self.scale(\n",
    "            \"tech_node\",\n",
    "            tech_node,\n",
    "            40e-9,\n",
    "            tech_node_area,\n",
    "            tech_node_energy,\n",
    "            tech_node_leak,\n",
    "        )\n",
    "        self.accum_datawidth = accum_datawidth\n",
    "\n",
    "        # Raising an error says that this estimator can't estimate,\n",
    "        # and estimators instead should be used instead. Good error\n",
    "        # messages are essential for users debugging their designs.\n",
    "        assert 4 <= accum_datawidth <= 8, \\\n",
    "            f'Accumulation datawidth {accum_datawidth} outside supported ' \\\n",
    "            f'range [4, 8]!'\n",
    "\n",
    "    # The actionDynamicEnergy decorator makes this function visible as an action.\n",
    "    # The function should return an energy in Joules.\n",
    "    @actionDynamicEnergy\n",
    "    def mac(self, clock_gated: bool = False) -> float:\n",
    "        self.logger.info(f'TernaryMAC Estimator is estimating '\n",
    "                         f'energy for mac_random.')\n",
    "        if clock_gated:\n",
    "            return 0.0\n",
    "        return 0.002e-12 * (self.accum_datawidth + 0.25)\n",
    "mac = TernaryMAC(accum_datawidth=8, tech_node=16e-9) # Scale the TernaryMAC to 16nm\n",
    "print(f'TernaryMAC energy is {mac.mac():.2e}J. Area is {mac.area:.2e}m^2. Leak power is {mac.leak_power:.2e}W')"
   ]
  },
  {
   "cell_type": "markdown",
   "metadata": {},
   "source": [
    "That's all! You can now use the TernaryMAC estimator to estimate the energy and area of\n",
    "a ternary MAC operation.\n",
    "\n",
    "That's the end of the tutorial. Please submit any issues or feature requests to the\n",
    "HWComponents GitHub repository.\n",
    "\n",
    "Thank you for using HWComponents!"
   ]
  }
 ],
 "metadata": {
  "kernelspec": {
   "display_name": "Python 3",
   "language": "python",
   "name": "python3"
  },
  "language_info": {
   "codemirror_mode": {
    "name": "ipython",
    "version": 3
   },
   "file_extension": ".py",
   "mimetype": "text/x-python",
   "name": "python",
   "nbconvert_exporter": "python",
   "pygments_lexer": "ipython3",
   "version": "3.13.3"
  }
 },
 "nbformat": 4,
 "nbformat_minor": 2
}
